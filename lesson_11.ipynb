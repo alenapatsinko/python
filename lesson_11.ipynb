{
 "cells": [
  {
   "cell_type": "markdown",
   "id": "66f69226",
   "metadata": {},
   "source": [
    "## f(x) = x^3 - 6x^2 + 4x + 12\n",
    "\n",
    "* Определить корни\n",
    "\n",
    "* Найти интервалы, на которых функция возрастает\n",
    "\n",
    "* Найти интервалы, на которых функция убывает\n",
    "\n",
    "* Построить график\n",
    "\n",
    "* Вычислить вершину\n",
    "\n",
    "* Определить промежутки, на котором f > 0\n",
    "\n",
    "* Определить промежутки, на котором f < 0"
   ]
  },
  {
   "cell_type": "code",
   "execution_count": 1,
   "id": "a18e4373",
   "metadata": {},
   "outputs": [],
   "source": [
    "from sympy import symbols, solve, diff\n",
    "import matplotlib.pyplot as plt\n",
    "import matplotlib as mpl\n",
    "from math import sqrt\n",
    "import numpy as np"
   ]
  },
  {
   "cell_type": "markdown",
   "id": "89e56a21",
   "metadata": {},
   "source": [
    "## Определить корни"
   ]
  },
  {
   "cell_type": "code",
   "execution_count": 2,
   "id": "a722d9c5",
   "metadata": {},
   "outputs": [
    {
     "data": {
      "text/plain": [
       "[2 - 8/((-1/2 - sqrt(3)*I/2)*(54 + 6*sqrt(303)*I)**(1/3)) - (-1/2 - sqrt(3)*I/2)*(54 + 6*sqrt(303)*I)**(1/3)/3,\n",
       " 2 - (-1/2 + sqrt(3)*I/2)*(54 + 6*sqrt(303)*I)**(1/3)/3 - 8/((-1/2 + sqrt(3)*I/2)*(54 + 6*sqrt(303)*I)**(1/3)),\n",
       " 2 - (54 + 6*sqrt(303)*I)**(1/3)/3 - 8/(54 + 6*sqrt(303)*I)**(1/3)]"
      ]
     },
     "execution_count": 2,
     "metadata": {},
     "output_type": "execute_result"
    }
   ],
   "source": [
    "x = symbols('x')\n",
    "solve(x**3 - 6*x**2 + 4*x + 12, x)"
   ]
  },
  {
   "cell_type": "code",
   "execution_count": 3,
   "id": "d53429f6",
   "metadata": {},
   "outputs": [
    {
     "data": {
      "text/plain": [
       "array([ 4.5340702 ,  2.51730405, -1.05137424])"
      ]
     },
     "execution_count": 3,
     "metadata": {},
     "output_type": "execute_result"
    }
   ],
   "source": [
    "np.roots([1, -6, 4, 12])"
   ]
  },
  {
   "cell_type": "markdown",
   "id": "19a88159",
   "metadata": {},
   "source": [
    "## График"
   ]
  },
  {
   "cell_type": "code",
   "execution_count": 4,
   "id": "8d25105a",
   "metadata": {},
   "outputs": [],
   "source": [
    "x = list(range(-5,9))\n",
    "fx = [i**3 - 6*i**2 + 4*i + 12 for i in x]"
   ]
  },
  {
   "cell_type": "code",
   "execution_count": 5,
   "id": "94fa5d02",
   "metadata": {},
   "outputs": [
    {
     "data": {
      "image/png": "[encoded data removed]",
      "text/plain": [
       "<Figure size 432x288 with 1 Axes>"
      ]
     },
     "metadata": {
      "needs_background": "light"
     },
     "output_type": "display_data"
    }
   ],
   "source": [
    "plt.plot(x,fx)\n",
    "plt.show()"
   ]
  },
  {
   "cell_type": "markdown",
   "id": "c696e589",
   "metadata": {},
   "source": []
  },
  {
   "cell_type": "markdown",
   "id": "36eea007",
   "metadata": {},
   "source": [
    "## Вычислить вершину"
   ]
  },
  {
   "cell_type": "code",
   "execution_count": 7,
   "id": "17181db3",
   "metadata": {},
   "outputs": [
    {
     "data": {
      "text/plain": [
       "[2 - 2*sqrt(6)/3, 2*sqrt(6)/3 + 2]"
      ]
     },
     "execution_count": 7,
     "metadata": {},
     "output_type": "execute_result"
    }
   ],
   "source": [
    "x = symbols('x')\n",
    "solve(diff(x**3 - 6*x**2 + 4*x + 12, x), x)"
   ]
  },
  {
   "cell_type": "code",
   "execution_count": 8,
   "id": "277b36e5",
   "metadata": {},
   "outputs": [
    {
     "name": "stdout",
     "output_type": "stream",
     "text": [
      "точка минумума x = 3.6329931618554516, точка максимума x = 0.36700683814454815\n"
     ]
    }
   ],
   "source": [
    "x_min = 2*sqrt(6)/3 + 2\n",
    "x_max = 2 - 2*sqrt(6)/3\n",
    "print(f'точка минимума x = {x_min}, точка максимума x = {x_max}')"
   ]
  },
  {
   "cell_type": "code",
   "execution_count": 9,
   "id": "b0e3ff1f",
   "metadata": {},
   "outputs": [
    {
     "name": "stdout",
     "output_type": "stream",
     "text": [
      "точка минимума у -4.709252999999993, точка максимума у 12.709253\n"
     ]
    }
   ],
   "source": [
    "x = 3.63\n",
    "y_min = x**3 - 6*x**2 + 4*x + 12\n",
    "x = 0.37\n",
    "y_max = x**3 - 6*x**2 + 4*x + 12\n",
    "print(f'точка минимума у {y_min}, точка максимума у {y_max}')"
   ]
  },
  {
   "cell_type": "code",
   "execution_count": 10,
   "id": "00d8fc87",
   "metadata": {},
   "outputs": [
    {
     "name": "stdout",
     "output_type": "stream",
     "text": [
      "точки минимума: х = 3.63, y = -4.71\n",
      "точки максимума: x = 0.37, у = 12.71\n"
     ]
    }
   ],
   "source": [
    "print(f'точки минимума: х = {round(x_min,2)}, y = {round(y_min,2)}\\nточки максимума: x = {round(x_max,2)}, у = {round(y_max,2)}')"
   ]
  },
  {
   "cell_type": "markdown",
   "id": "594a1832",
   "metadata": {},
   "source": [
    "## Интервалы, на которых функция возрастает, убывает"
   ]
  },
  {
   "cell_type": "code",
   "execution_count": 11,
   "id": "b03cdef2",
   "metadata": {},
   "outputs": [
    {
     "name": "stdout",
     "output_type": "stream",
     "text": [
      "Интервал возрастания: от - бесконечности до (0.37, 12.71) и от (3.63, -4.71) до + бесконечности\n",
      "Интервал убывания: от (0.37, 12.71) до (3.63, -4.71)\n"
     ]
    }
   ],
   "source": [
    "print(f'Интервал возрастания: от - бесконечности до {(round(x_max,2),round(y_max,2))} и от {(round(x_min,2),round(y_min,2))} до + бесконечности')\n",
    "print(f'Интервал убывания: от {(round(x_max,2),round(y_max,2))} до {(round(x_min,2),round(y_min,2))}') \n"
   ]
  },
  {
   "cell_type": "markdown",
   "id": "e38f1e4c",
   "metadata": {},
   "source": [
    "## Определить промежутки, на котором f > 0, f < 0"
   ]
  },
  {
   "cell_type": "code",
   "execution_count": 12,
   "id": "a74dcb5c",
   "metadata": {},
   "outputs": [
    {
     "name": "stdout",
     "output_type": "stream",
     "text": [
      "Функция больше 0: (-1.05; 2.52), (4.53; + бесконечности)\n",
      "Функция меньше 0: (- бесконечности; -1.05), (2.52; 4.53)\n"
     ]
    }
   ],
   "source": [
    "x1, x2, x3 = np.roots([1, -6, 4, 12])\n",
    "print(f'Функция больше 0: ({round(x3,2)}; {round(x2,2)}), ({round(x1,2)}; + бесконечности)')\n",
    "print(f'Функция меньше 0: (- бесконечности; {round(x3,2)}), ({round(x2,2)}; {round(x1,2)})')"
   ]
  },
  {
   "cell_type": "code",
   "execution_count": null,
   "id": "1fc0f2c5",
   "metadata": {},
   "outputs": [],
   "source": []
  }
 ],
 "metadata": {
  "kernelspec": {
   "display_name": "Python 3 (ipykernel)",
   "language": "python",
   "name": "python3"
  },
  "language_info": {
   "codemirror_mode": {
    "name": "ipython",
    "version": 3
   },
   "file_extension": ".py",
   "mimetype": "text/x-python",
   "name": "python",
   "nbconvert_exporter": "python",
   "pygments_lexer": "ipython3",
   "version": "3.9.12"
  }
 },
 "nbformat": 4,
 "nbformat_minor": 5
}
